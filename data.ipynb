{
 "cells": [
  {
   "cell_type": "code",
   "execution_count": 3,
   "metadata": {},
   "outputs": [],
   "source": [
    "import pandas as pd\n",
    "\n",
    "# Read the CSV file\n",
    "df = pd.read_csv('dispatch.csv')\n",
    "\n",
    "# Get the column numbers (indices) you want to keep\n",
    "column_numbers_to_keep = [1, 2, 3, 8, 12, 13, 19, 20, 21]\n",
    "\n",
    "# Keep the specified columns\n",
    "df = df.iloc[:, column_numbers_to_keep]\n",
    "\n",
    "# Drop rows with any blank data\n",
    "df.dropna(inplace=True)\n",
    "\n",
    "# Count the number of rows after removing blank data\n",
    "num_rows_after = len(df)\n",
    "\n",
    "# Remove duplicate rows\n",
    "df = df.drop_duplicates()\n",
    "\n",
    "# Display summary statistics of the dataset\n",
    "#print(df.describe())\n",
    "\n",
    "# Display information about the dataset, including column names and data types\n",
    "#print(df.info())\n",
    "\n"
   ]
  },
  {
   "cell_type": "code",
   "execution_count": 4,
   "metadata": {},
   "outputs": [],
   "source": [
    "from sklearn.preprocessing import LabelEncoder\n",
    "\n",
    "# Identify non-numerical columns\n",
    "non_numerical_columns = df.select_dtypes(exclude=['number']).columns.tolist()\n",
    "\n",
    "# Perform label encoding on non-numerical columns\n",
    "label_encoder = LabelEncoder()\n",
    "for column in non_numerical_columns:\n",
    "    df[column] = label_encoder.fit_transform(df[column])\n"
   ]
  },
  {
   "cell_type": "code",
   "execution_count": 5,
   "metadata": {},
   "outputs": [
    {
     "name": "stdout",
     "output_type": "stream",
     "text": [
      "Selected features in descending order of importance:\n",
      "                         Feature     Score\n",
      "4  INCIDENT_TRAVEL_TM_SECONDS_QY  2.345162\n",
      "3   DISPATCH_RESPONSE_SECONDS_QY  0.178360\n",
      "1              INITIAL_CALL_TYPE  0.068437\n",
      "2    INITIAL_SEVERITY_LEVEL_CODE  0.062455\n",
      "7                        ZIPCODE  0.024034\n",
      "5                        BOROUGH  0.014770\n",
      "6         INCIDENT_DISPATCH_AREA  0.009990\n",
      "0              INCIDENT_DATETIME  0.008897\n"
     ]
    }
   ],
   "source": [
    "\n",
    "from sklearn.feature_selection import SelectKBest, mutual_info_classif\n",
    "\n",
    "# Separate the features (X) and the target variable (y)\n",
    "X = df.drop('INCIDENT_RESPONSE_SECONDS_QY', axis=1)\n",
    "y = df['INCIDENT_RESPONSE_SECONDS_QY']\n",
    "\n",
    "# Perform feature selection using mutual information\n",
    "selector = SelectKBest(score_func=mutual_info_classif, k='all')\n",
    "X_selected = selector.fit_transform(X, y)\n",
    "\n",
    "# Get the selected feature names and their corresponding scores\n",
    "selected_features_scores = pd.DataFrame({'Feature': X.columns, 'Score': selector.scores_})\n",
    "\n",
    "# Sort the features based on their scores in descending order\n",
    "sorted_features = selected_features_scores.sort_values(by='Score', ascending=False)\n",
    "\n",
    "# Print the selected feature names and scores in descending order\n",
    "print(\"Selected features in descending order of importance:\")\n",
    "print(sorted_features)"
   ]
  },
  {
   "cell_type": "code",
   "execution_count": 6,
   "metadata": {},
   "outputs": [],
   "source": [
    "# Get the column numbers (indices) you want to keep (Score > 0.05)\n",
    "column_numbers_to_keep = [4, 3, 2, 1]\n",
    "\n",
    "# Keep the specified columns\n",
    "df = df.iloc[:, column_numbers_to_keep]"
   ]
  },
  {
   "cell_type": "code",
   "execution_count": 7,
   "metadata": {},
   "outputs": [],
   "source": [
    "from sklearn.model_selection import train_test_split\n",
    "\n",
    "# Split the data into training and testing sets\n",
    "X_train, X_test, y_train, y_test = train_test_split(X, y, test_size=0.25, random_state=32)"
   ]
  },
  {
   "cell_type": "code",
   "execution_count": 7,
   "metadata": {},
   "outputs": [
    {
     "name": "stdout",
     "output_type": "stream",
     "text": [
      "Linear Regression RMSE: 0.3333837948036266\n"
     ]
    }
   ],
   "source": [
    "from sklearn.linear_model import LinearRegression\n",
    "from sklearn.metrics import mean_squared_error\n",
    "\n",
    "# Initialize and train the models\n",
    "linear_model = LinearRegression()\n",
    "linear_model.fit(X_train, y_train)\n",
    "\n",
    "\n",
    "# Make predictions on the test set\n",
    "linear_pred = linear_model.predict(X_test)\n",
    "\n",
    "\n",
    "# Evaluate the models\n",
    "linear_rmse = mean_squared_error(y_test, linear_pred, squared=False)\n",
    "\n",
    "\n",
    "# Print the RMSE scores\n",
    "print(\"Linear Regression RMSE:\", linear_rmse)\n",
    "\n"
   ]
  },
  {
   "cell_type": "code",
   "execution_count": 8,
   "metadata": {},
   "outputs": [
    {
     "name": "stdout",
     "output_type": "stream",
     "text": [
      "Decision Tree RMSE: 20.72297498922306\n"
     ]
    }
   ],
   "source": [
    "\n",
    "from sklearn.tree import DecisionTreeRegressor\n",
    "from sklearn.metrics import mean_squared_error\n",
    "\n",
    "# Initialize and train the models\n",
    "tree_model = DecisionTreeRegressor()\n",
    "tree_model.fit(X_train, y_train)\n",
    "\n",
    "\n",
    "\n",
    "# Make predictions on the test set\n",
    "tree_pred = tree_model.predict(X_test)\n",
    "\n",
    "\n",
    "# Evaluate the models\n",
    "tree_rmse = mean_squared_error(y_test, tree_pred, squared=False)\n",
    "\n",
    "\n",
    "# Print the RMSE scores\n",
    "print(\"Decision Tree RMSE:\", tree_rmse)\n",
    "\n"
   ]
  },
  {
   "cell_type": "code",
   "execution_count": 9,
   "metadata": {},
   "outputs": [
    {
     "name": "stdout",
     "output_type": "stream",
     "text": [
      "Random Forest RMSE: 16.138885020955286\n"
     ]
    }
   ],
   "source": [
    "\n",
    "from sklearn.ensemble import RandomForestRegressor\n",
    "from sklearn.metrics import mean_squared_error\n",
    "\n",
    "# Initialize and train the models\n",
    "rf_model = RandomForestRegressor()\n",
    "rf_model.fit(X_train, y_train)\n",
    "\n",
    "\n",
    "# Make predictions on the test set\n",
    "rf_pred = rf_model.predict(X_test)\n",
    "\n",
    "# Evaluate the models\n",
    "rf_rmse = mean_squared_error(y_test, rf_pred, squared=False)\n",
    "\n",
    "\n",
    "# Print the RMSE scores\n",
    "print(\"Random Forest RMSE:\", rf_rmse)\n"
   ]
  },
  {
   "cell_type": "code",
   "execution_count": 10,
   "metadata": {},
   "outputs": [],
   "source": [
    "\n",
    "from sklearn.svm import SVR\n",
    "from sklearn.metrics import mean_squared_error\n",
    "\n",
    "# Initialize and train the models\n",
    "svr_model = SVR()\n",
    "svr_model.fit(X_train, y_train)\n",
    "\n",
    "\n",
    "\n",
    "# Make predictions on the test set\n",
    "svr_pred = svr_model.predict(X_test)\n",
    "\n",
    "# Evaluate the models\n",
    "svr_rmse = mean_squared_error(y_test, svr_pred, squared=False)\n",
    "\n",
    "# Print the RMSE scores\n",
    "print(\"SVR RMSE:\", svr_rmse)\n"
   ]
  },
  {
   "cell_type": "code",
   "execution_count": null,
   "metadata": {},
   "outputs": [],
   "source": [
    "\n",
    "from sklearn.neural_network import MLPRegressor\n",
    "from sklearn.metrics import mean_squared_error\n",
    "\n",
    "# Initialize and train the models\n",
    "mlp_model = MLPRegressor()\n",
    "mlp_model.fit(X_train, y_train)\n",
    "\n",
    "# Make predictions on the test set\n",
    "mlp_pred = mlp_model.predict(X_test)\n",
    "\n",
    "# Evaluate the models\n",
    "mlp_rmse = mean_squared_error(y_test, mlp_pred, squared=False)\n",
    "\n",
    "# Print the RMSE scores\n",
    "print(\"MLP RMSE:\", mlp_rmse)\n"
   ]
  },
  {
   "cell_type": "code",
   "execution_count": 8,
   "metadata": {},
   "outputs": [
    {
     "name": "stdout",
     "output_type": "stream",
     "text": [
      "LinearRegression RMSE: 0.3333837948036266\n",
      "DecisionTreeRegressor RMSE: 21.94298567652289\n",
      "RandomForestRegressor RMSE: 16.49298319347959\n"
     ]
    }
   ],
   "source": [
    "from sklearn.linear_model import LinearRegression\n",
    "from sklearn.tree import DecisionTreeRegressor\n",
    "from sklearn.ensemble import RandomForestRegressor\n",
    "from sklearn.svm import SVR\n",
    "from sklearn.neural_network import MLPRegressor\n",
    "from sklearn.metrics import mean_squared_error\n",
    "\n",
    "# Define a list of regression models\n",
    "models = [\n",
    "    LinearRegression(),\n",
    "    DecisionTreeRegressor(),\n",
    "    RandomForestRegressor(),\n",
    "    SVR(),\n",
    "    MLPRegressor()\n",
    "]\n",
    "\n",
    "# Train and evaluate each model\n",
    "for model in models:\n",
    "    model.fit(X_train, y_train)\n",
    "    y_pred = model.predict(X_test)\n",
    "    rmse = mean_squared_error(y_test, y_pred, squared=False)\n",
    "    print(f\"{type(model).__name__} RMSE: {rmse}\")\n"
   ]
  },
  {
   "cell_type": "code",
   "execution_count": null,
   "metadata": {},
   "outputs": [],
   "source": [
    "#import pandas as pd\n",
    "\n",
    "# Read the CSV file\n",
    "#df = pd.read_csv('o.csv')\n",
    "\n",
    "# Remove rows with 'AM' or 'PM' in the 'INCIDENT_DATETIME' column\n",
    "#column_name = 'INCIDENT_DATETIME'\n",
    "#rows_to_exclude = ['AM', 'PM']\n",
    "#df_filtered = df[~df[column_name].str.contains('|'.join(rows_to_exclude), na=False)]\n",
    "\n",
    "# Create a new CSV file with the filtered data\n",
    "#output_file = 'dispatch.csv'\n",
    "#df_filtered.to_csv(output_file, index=False)\n",
    "\n",
    "#print(\"Filtered data saved to\", output_file)\n"
   ]
  }
 ],
 "metadata": {
  "kernelspec": {
   "display_name": "Python 3",
   "language": "python",
   "name": "python3"
  },
  "language_info": {
   "codemirror_mode": {
    "name": "ipython",
    "version": 3
   },
   "file_extension": ".py",
   "mimetype": "text/x-python",
   "name": "python",
   "nbconvert_exporter": "python",
   "pygments_lexer": "ipython3",
   "version": "3.11.4"
  },
  "orig_nbformat": 4
 },
 "nbformat": 4,
 "nbformat_minor": 2
}
